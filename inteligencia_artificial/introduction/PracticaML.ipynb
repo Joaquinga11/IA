{
 "cells": [
  {
   "cell_type": "markdown",
   "metadata": {},
   "source": [
    "# Práctica FIFA\n",
    "\n",
    "### Joaquín González Alcover\n",
    "\n",
    "El objetivo de esta práctica es intentar predecir el precio de los jugadores sólo analizando los datos de los jugadores.\n",
    "\n",
    "\n",
    "\n",
    "## Importar librerías\n",
    "\n",
    "Lo primero de todo, tenemos que importar las librerías que utilizaremos."
   ]
  },
  {
   "cell_type": "code",
   "execution_count": null,
   "metadata": {},
   "outputs": [],
   "source": [
    "import os\n",
    "\n",
    "from sklearn.model_selection import train_test_split\n",
    "from sklearn import linear_model\n",
    "from sklearn.metrics import mean_squared_error, mean_absolute_error, r2_score\n",
    "\n",
    "import pandas as pd\n",
    "import numpy as np"
   ]
  },
  {
   "cell_type": "markdown",
   "metadata": {},
   "source": [
    "## Leer los datos\n",
    "\n",
    "Para cargar los datos del csv utilizaremos la librería pandas."
   ]
  },
  {
   "cell_type": "code",
   "execution_count": null,
   "metadata": {},
   "outputs": [],
   "source": [
    "df = pd.read_csv(os.path.join(\"../in/fifa.csv\"))"
   ]
  },
  {
   "cell_type": "markdown",
   "metadata": {},
   "source": [
    "Comprobamos que ha leido correctamente el fichero."
   ]
  },
  {
   "cell_type": "code",
   "execution_count": null,
   "metadata": {},
   "outputs": [],
   "source": [
    "df.head()"
   ]
  },
  {
   "cell_type": "markdown",
   "metadata": {},
   "source": [
    "## Análisis de los datos\n",
    "\n",
    "Lo primero de todo, para poder ver todos los datos vamos a quitar el máximo de columnas que se pueden mostrar."
   ]
  },
  {
   "cell_type": "code",
   "execution_count": null,
   "metadata": {},
   "outputs": [],
   "source": [
    "pd.set_option('display.max_columns', None)"
   ]
  },
  {
   "cell_type": "code",
   "execution_count": null,
   "metadata": {},
   "outputs": [],
   "source": [
    "df.head()"
   ]
  },
  {
   "cell_type": "code",
   "execution_count": null,
   "metadata": {},
   "outputs": [],
   "source": [
    "df.describe()"
   ]
  },
  {
   "cell_type": "markdown",
   "metadata": {},
   "source": [
    "Como podemos observar, las dos primeras columnas, correspondientes a los identificadores de cada jugador, no aportan datos relevantes, por lo que las quitamos."
   ]
  },
  {
   "cell_type": "code",
   "execution_count": null,
   "metadata": {},
   "outputs": [],
   "source": [
    "df = df.iloc[:, 2:]\n",
    "df"
   ]
  },
  {
   "cell_type": "markdown",
   "metadata": {},
   "source": [
    "Tanto la foto del jugador, como la de la bandera y la de su club, no aportan información por lo que procedemos a quitarlas."
   ]
  },
  {
   "cell_type": "code",
   "execution_count": null,
   "metadata": {},
   "outputs": [],
   "source": [
    "df = df.drop(columns=['Photo', 'Flag', 'Club Logo'])\n",
    "df"
   ]
  },
  {
   "cell_type": "markdown",
   "metadata": {},
   "source": [
    "Lo siguiente que haremos es comprobar que columnas y filas contienen NaNs."
   ]
  },
  {
   "cell_type": "code",
   "execution_count": null,
   "metadata": {},
   "outputs": [],
   "source": [
    "df.columns[df.isna().any()]"
   ]
  },
  {
   "cell_type": "code",
   "execution_count": null,
   "metadata": {},
   "outputs": [],
   "source": [
    "len(df.columns[df.isna().any()].tolist())"
   ]
  },
  {
   "cell_type": "code",
   "execution_count": null,
   "metadata": {},
   "outputs": [],
   "source": [
    "df[df.isna().any(axis=1)]"
   ]
  },
  {
   "cell_type": "markdown",
   "metadata": {},
   "source": [
    "Como podemos observar, tenemos NaNs en la mayoría de columnas y en todas las filas de nuestro conjunto de datos, por tanto no podemos deshacernos directamente de todas ellas.\n",
    "\n",
    "Comprobamos la columna 'Loaned From'."
   ]
  },
  {
   "cell_type": "code",
   "execution_count": null,
   "metadata": {},
   "outputs": [],
   "source": [
    "df = df.rename({\"Loaned From\": \"LoanedFrom\"}, axis='columns')\n",
    "df.loc[df.LoanedFrom != df.LoanedFrom]"
   ]
  },
  {
   "cell_type": "markdown",
   "metadata": {},
   "source": [
    "Como podemos ver, la mayor parte de los jugadores no son cedidos, por tanto podemos eliminar la columna 'LoanedFrom' que está en su mayor parte compuesta por NaNs."
   ]
  },
  {
   "cell_type": "code",
   "execution_count": null,
   "metadata": {},
   "outputs": [],
   "source": [
    "df = df.drop(columns='LoanedFrom')\n",
    "df"
   ]
  },
  {
   "cell_type": "markdown",
   "metadata": {},
   "source": [
    "El resto de columnas tienen más información por lo que no las eliminaremos."
   ]
  },
  {
   "cell_type": "markdown",
   "metadata": {},
   "source": [
    "Antes de poder intentar predecir el valor de los jugadores, deberemos hacer que la columna Value, la que vamos a tratar de predecir, contenga valores numéricos. Por lo que tendremos que tranformar los precios, los cuales están en una notación que tiene delante el símbolo '€' y detrás del número 'M' o 'K' que corresponde a millón y millar respectivamente."
   ]
  },
  {
   "cell_type": "code",
   "execution_count": null,
   "metadata": {},
   "outputs": [],
   "source": [
    "def value_to_float(x):\n",
    "    \"\"\"\n",
    "    From K and M to float.\n",
    "    \n",
    "    \"\"\"\n",
    "    x = x.replace('€', '')\n",
    "    ret_val = 0.0\n",
    "    \n",
    "    if type(x) == float or type(x) == int:\n",
    "        ret_val = x\n",
    "    if 'K' in x:\n",
    "        if len(x) > 1:\n",
    "            ret_val = float(x.replace('K', ''))\n",
    "        ret_val = ret_val *1000\n",
    "    if 'M' in x:\n",
    "        if len(x) > 1:\n",
    "            ret_val = float(x.replace('M', ''))\n",
    "        ret_val = ret_val * 1000000.0\n",
    "    return ret_val"
   ]
  },
  {
   "cell_type": "markdown",
   "metadata": {},
   "source": [
    "Ahora aplicamos la función a cada valor de la columna 'Value'."
   ]
  },
  {
   "cell_type": "code",
   "execution_count": null,
   "metadata": {},
   "outputs": [],
   "source": [
    "df[\"Value\"] = df[\"Value\"].apply(value_to_float)\n",
    "df.head()"
   ]
  },
  {
   "cell_type": "markdown",
   "metadata": {},
   "source": [
    "## Predicción\n",
    "\n",
    "Finalmente vamos a intentar predecir el valor de los jugadores."
   ]
  },
  {
   "cell_type": "markdown",
   "metadata": {},
   "source": [
    "Por motivos obvios, el valor de un jugador viene dado por su rendimiento general, por ello, lo primero que haremos es ver si depende solamente de ello o no, tratando de predecir el valor por su columna 'Overall', también puede estar relacionado con el potencial del jugador, 'Potential', y su 'Special'. Estas columnas no hay que tratarlas de ninguna forma ya que como hemos visto antes, no contienen ningún valor NaN."
   ]
  },
  {
   "cell_type": "code",
   "execution_count": null,
   "metadata": {},
   "outputs": [],
   "source": [
    "val = df.pop(\"Value\")"
   ]
  },
  {
   "cell_type": "code",
   "execution_count": null,
   "metadata": {},
   "outputs": [],
   "source": [
    "to_drop = [c for c in df.columns if not c in ('Overall', 'Potential', 'Special')]\n",
    "\n",
    "df_test = df\n",
    "df_test = df_test.drop(to_drop, axis=1)\n",
    "df_test"
   ]
  },
  {
   "cell_type": "markdown",
   "metadata": {},
   "source": [
    "De esta forma tenemos en valores numéricos tanto el valor del jugador que queremos predecir, así como el valor de 'Overall'."
   ]
  },
  {
   "cell_type": "code",
   "execution_count": null,
   "metadata": {},
   "outputs": [],
   "source": [
    "X_train, X_test, y_train, y_test = train_test_split(df_test, val, test_size=0.33, random_state=42)"
   ]
  },
  {
   "cell_type": "code",
   "execution_count": null,
   "metadata": {},
   "outputs": [],
   "source": [
    "len(X_train)"
   ]
  },
  {
   "cell_type": "markdown",
   "metadata": {},
   "source": [
    "Ahora entrenaremos el modelo de regresión lineal."
   ]
  },
  {
   "cell_type": "code",
   "execution_count": null,
   "metadata": {},
   "outputs": [],
   "source": [
    "reg = linear_model.LinearRegression().fit(X_train, y_train)"
   ]
  },
  {
   "cell_type": "code",
   "execution_count": null,
   "metadata": {},
   "outputs": [],
   "source": [
    "preds = reg.predict(X_test)"
   ]
  },
  {
   "cell_type": "code",
   "execution_count": null,
   "metadata": {},
   "outputs": [],
   "source": [
    "preds[0]"
   ]
  },
  {
   "cell_type": "code",
   "execution_count": null,
   "metadata": {},
   "outputs": [],
   "source": [
    "y_test[0]"
   ]
  },
  {
   "cell_type": "code",
   "execution_count": null,
   "metadata": {},
   "outputs": [],
   "source": [
    "r2_score(preds, y_test)"
   ]
  },
  {
   "cell_type": "markdown",
   "metadata": {},
   "source": [
    "Como podemos observar, las predicciones no son las esperadas, lo que significa que las variables escogidas no están relacionadas con el valor del jugador o que hay variables de las que también depende dicho valor."
   ]
  },
  {
   "cell_type": "markdown",
   "metadata": {},
   "source": [
    "Probemos quitando la columna 'Special' puesto que como podemos ver en De Gea es especialmente baja a pesar de que su valor es de los más altos, de esto se puede deducir que dicho valor 'Special' no se corresponde con los jugadores que juegan en la posición de portero (GK), y podría llegar a confundir."
   ]
  },
  {
   "cell_type": "code",
   "execution_count": null,
   "metadata": {},
   "outputs": [],
   "source": [
    "to_drop = [c for c in df.columns if not c in ('Overall', 'Potential')]\n",
    "\n",
    "df_test = df\n",
    "df_test = df_test.drop(to_drop, axis=1)\n",
    "df_test"
   ]
  },
  {
   "cell_type": "code",
   "execution_count": null,
   "metadata": {},
   "outputs": [],
   "source": [
    "X_train, X_test, y_train, y_test = train_test_split(df_test, val, test_size=0.33, random_state=42)"
   ]
  },
  {
   "cell_type": "code",
   "execution_count": null,
   "metadata": {},
   "outputs": [],
   "source": [
    "reg = linear_model.LinearRegression().fit(X_train, y_train)"
   ]
  },
  {
   "cell_type": "code",
   "execution_count": null,
   "metadata": {},
   "outputs": [],
   "source": [
    "preds = reg.predict(X_test)"
   ]
  },
  {
   "cell_type": "code",
   "execution_count": null,
   "metadata": {},
   "outputs": [],
   "source": [
    "preds[0]"
   ]
  },
  {
   "cell_type": "code",
   "execution_count": null,
   "metadata": {},
   "outputs": [],
   "source": [
    "y_test[0]"
   ]
  },
  {
   "cell_type": "code",
   "execution_count": null,
   "metadata": {},
   "outputs": [],
   "source": [
    "r2_score(preds, y_test)"
   ]
  },
  {
   "cell_type": "markdown",
   "metadata": {},
   "source": [
    "Vemos que nuestro r2_score a aumentado, aunque sea bastante poco, esto quiere decir que vamos por buen camino y 'Special' no está directamente relacionado al valor del jugador.\n",
    "\n",
    "r2_score anterior: -0.34993937335881875  \n",
    "r2_score actual:   -0.3496533478047261"
   ]
  },
  {
   "cell_type": "markdown",
   "metadata": {},
   "source": [
    "Otra variable relacionada con el valor del jugador podría ser el sueldo mensual que éste recibe, cuanto mejor sea un jugador, más cobra, o lo que es lo mismo en cualquier ámbito, el que ofrece mejores resultados obtiene una mejor recompensa. Para estudiar esta posibilidad, tenemos que transformar el contenido de la columna 'Wage' en valores numéricos igual que hicimos con el valor de los jugadores."
   ]
  },
  {
   "cell_type": "code",
   "execution_count": null,
   "metadata": {},
   "outputs": [],
   "source": [
    "df[\"Wage\"] = df[\"Wage\"].apply(value_to_float)\n",
    "df.head()"
   ]
  },
  {
   "cell_type": "code",
   "execution_count": null,
   "metadata": {},
   "outputs": [],
   "source": [
    "to_drop = [c for c in df.columns if not c in ('Overall', 'Potential', 'Wage')]\n",
    "\n",
    "df_test = df\n",
    "df_test = df_test.drop(to_drop, axis=1)\n",
    "df_test"
   ]
  },
  {
   "cell_type": "code",
   "execution_count": null,
   "metadata": {},
   "outputs": [],
   "source": [
    "X_train, X_test, y_train, y_test = train_test_split(df_test, val, test_size=0.33, random_state=42)"
   ]
  },
  {
   "cell_type": "code",
   "execution_count": null,
   "metadata": {},
   "outputs": [],
   "source": [
    "reg = linear_model.LinearRegression().fit(X_train, y_train)"
   ]
  },
  {
   "cell_type": "code",
   "execution_count": null,
   "metadata": {},
   "outputs": [],
   "source": [
    "preds = reg.predict(X_test)"
   ]
  },
  {
   "cell_type": "code",
   "execution_count": null,
   "metadata": {},
   "outputs": [],
   "source": [
    "preds[0]"
   ]
  },
  {
   "cell_type": "code",
   "execution_count": null,
   "metadata": {},
   "outputs": [],
   "source": [
    "y_test[0]"
   ]
  },
  {
   "cell_type": "code",
   "execution_count": null,
   "metadata": {},
   "outputs": [],
   "source": [
    "r2_score(preds, y_test)"
   ]
  },
  {
   "cell_type": "markdown",
   "metadata": {},
   "source": [
    "Como podemos observar, estábamos en lo cierto. Cuanto mejor es el jugador, más cobra.  \n",
    "\n",
    "He querido comprobar que tanto 'Overall' como 'Potencial' son variables a tener en cuenta, por lo que he repetido este procedimiento con las distintas combinaciones de estas tres variables y estos son los resultados obtenidos:  \n",
    "\n",
    "|**'Overall'** | **'Potencial** | **'Wage'** | **r2_score**|  \n",
    "|:------------:|:--------------:|:----------:|:-----------:|\n",
    "    Si    |     Si     |   Si   | 0.7619581928069343  \n",
    "    No    |     No     |   Si   | 0.7168292353438137  \n",
    "    Si    |     No     |   Si   | 0.7471879227405753  \n",
    "    No    |     Si     |   Si   | 0.7555372125080189  \n",
    "    \n",
    "Como esperábamos, el mejor resultado lo obtenemos al realizar la predicción con las tres variables, por lo que podemos afirmar que las tres están relacionas con el valor del jugador."
   ]
  },
  {
   "cell_type": "markdown",
   "metadata": {},
   "source": [
    "Otra de las variables que podrían estar directamente relacionadas con el valor de un jugador es la cláusula de liberación, 'Release Clause', ya que los clubes pedirían una mayor compensación por perder a sus mejores jugadores mientras su contrato sigue activo. Por tanto, cuanto mejor sea el jugador, mayor es su valor y mayor debería ser su cláusula de liberación. De la misma forma que hicimos con el valor y el sueldo de los jugadores, debemos transformar el contenido de la columna 'Release Clause' en valores numéricos."
   ]
  },
  {
   "cell_type": "code",
   "execution_count": null,
   "metadata": {},
   "outputs": [],
   "source": [
    "def value_to_float(x):\n",
    "    \"\"\"\n",
    "    From K and M to float.\n",
    "    \n",
    "    \"\"\"\n",
    "    x = str(x)\n",
    "    x = x.replace('€', '')\n",
    "    ret_val = 0.0\n",
    "    \n",
    "    if type(x) == float or type(x) == int:\n",
    "        ret_val = x\n",
    "    if 'K' in x:\n",
    "        if len(x) > 1:\n",
    "            ret_val = float(x.replace('K', ''))\n",
    "        ret_val = ret_val *1000\n",
    "    if 'M' in x:\n",
    "        if len(x) > 1:\n",
    "            ret_val = float(x.replace('M', ''))\n",
    "        ret_val = ret_val * 1000000.0\n",
    "    return ret_val"
   ]
  },
  {
   "cell_type": "code",
   "execution_count": null,
   "metadata": {},
   "outputs": [],
   "source": [
    "df[\"Release Clause\"] = df[\"Release Clause\"].apply(value_to_float)\n",
    "df.head()"
   ]
  },
  {
   "cell_type": "code",
   "execution_count": null,
   "metadata": {},
   "outputs": [],
   "source": [
    "to_drop = [c for c in df.columns if not c in ('Overall', 'Potential', 'Wage', 'Release Clause')]\n",
    "\n",
    "df_test = df\n",
    "df_test = df_test.drop(to_drop, axis=1)\n",
    "df_test"
   ]
  },
  {
   "cell_type": "code",
   "execution_count": null,
   "metadata": {},
   "outputs": [],
   "source": [
    "X_train, X_test, y_train, y_test = train_test_split(df_test, val, test_size=0.33, random_state=42)"
   ]
  },
  {
   "cell_type": "code",
   "execution_count": null,
   "metadata": {},
   "outputs": [],
   "source": [
    "reg = linear_model.LinearRegression().fit(X_train, y_train)"
   ]
  },
  {
   "cell_type": "code",
   "execution_count": null,
   "metadata": {},
   "outputs": [],
   "source": [
    "preds = reg.predict(X_test)"
   ]
  },
  {
   "cell_type": "code",
   "execution_count": null,
   "metadata": {},
   "outputs": [],
   "source": [
    "preds[0]"
   ]
  },
  {
   "cell_type": "code",
   "execution_count": null,
   "metadata": {},
   "outputs": [],
   "source": [
    "y_test[0]"
   ]
  },
  {
   "cell_type": "code",
   "execution_count": null,
   "metadata": {},
   "outputs": [],
   "source": [
    "r2_score(preds, y_test)"
   ]
  },
  {
   "cell_type": "markdown",
   "metadata": {},
   "source": [
    "Como podemos ver, el r2_score nos da aproximadamente 0.96, bastante cerca del 1, lo que significa que ha hecho un buen entrenamiento y hace muy bien las predicciones."
   ]
  },
  {
   "cell_type": "markdown",
   "metadata": {},
   "source": [
    "## Conclusión \n",
    "\n",
    "En conclusión, podemos afirmar que a partir de los datos de un jugador, podemos predecir su valor. Por lo que el valor de un jugador está intrínsecamente relacionado a sus características."
   ]
  }
 ],
 "metadata": {
  "kernelspec": {
   "display_name": "Python 3",
   "language": "python",
   "name": "python3"
  },
  "language_info": {
   "codemirror_mode": {
    "name": "ipython",
    "version": 3
   },
   "file_extension": ".py",
   "mimetype": "text/x-python",
   "name": "python",
   "nbconvert_exporter": "python",
   "pygments_lexer": "ipython3",
   "version": "3.7.9"
  }
 },
 "nbformat": 4,
 "nbformat_minor": 4
}
